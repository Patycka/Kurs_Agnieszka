{
 "cells": [
  {
   "cell_type": "code",
   "execution_count": null,
   "metadata": {},
   "outputs": [],
   "source": [
    "empty_dict = dict()"
   ]
  },
  {
   "cell_type": "code",
   "execution_count": 1,
   "metadata": {},
   "outputs": [],
   "source": [
    "# slownik zawiera pary klucz wartosc\n",
    "# jedna wartosc dla danego klucza\n",
    "# słownik jest uporządkowany od pythona 3.7\n",
    "# dict = {key1:value1, key2:value2}\n",
    "pol_to_eng = {'jeden': 'one', 'dwa': 'two', 'trzy': 'three'}\n",
    "name_to_digit = {'jeden': 1, 'dwa': 2, 'trzy': 3}"
   ]
  },
  {
   "cell_type": "code",
   "execution_count": 2,
   "metadata": {},
   "outputs": [],
   "source": [
    "# Dodanie nowej pary klucz-wartość do słownika\n",
    "pol_to_eng['cztery'] = 'four'"
   ]
  },
  {
   "cell_type": "code",
   "execution_count": 3,
   "metadata": {},
   "outputs": [
    {
     "data": {
      "text/plain": [
       "{'jeden': 'one', 'dwa': 'two', 'trzy': 'three', 'cztery': 'four'}"
      ]
     },
     "execution_count": 3,
     "metadata": {},
     "output_type": "execute_result"
    }
   ],
   "source": [
    "pol_to_eng"
   ]
  },
  {
   "cell_type": "code",
   "execution_count": 4,
   "metadata": {},
   "outputs": [
    {
     "data": {
      "text/plain": [
       "dict_keys(['jeden', 'dwa', 'trzy'])"
      ]
     },
     "execution_count": 4,
     "metadata": {},
     "output_type": "execute_result"
    }
   ],
   "source": [
    "# Wyświetlenie wszystkich kluczy\n",
    "pol_to_eng.keys()"
   ]
  },
  {
   "cell_type": "code",
   "execution_count": 5,
   "metadata": {},
   "outputs": [
    {
     "data": {
      "text/plain": [
       "dict_values(['one', 'two', 'three'])"
      ]
     },
     "execution_count": 5,
     "metadata": {},
     "output_type": "execute_result"
    }
   ],
   "source": [
    "# Wyswietlenie wszystkich wartosci\n",
    "pol_to_eng.values()"
   ]
  },
  {
   "cell_type": "code",
   "execution_count": 6,
   "metadata": {},
   "outputs": [
    {
     "data": {
      "text/plain": [
       "'one'"
      ]
     },
     "execution_count": 6,
     "metadata": {},
     "output_type": "execute_result"
    }
   ],
   "source": [
    "# Wyswietlenie wartości po kluczu\n",
    "pol_to_eng['jeden']\n"
   ]
  },
  {
   "cell_type": "code",
   "execution_count": 4,
   "metadata": {},
   "outputs": [
    {
     "data": {
      "text/plain": [
       "3"
      ]
     },
     "execution_count": 4,
     "metadata": {},
     "output_type": "execute_result"
    }
   ],
   "source": [
    "name_to_digit['trzy']"
   ]
  },
  {
   "cell_type": "code",
   "execution_count": 5,
   "metadata": {},
   "outputs": [
    {
     "data": {
      "text/plain": [
       "{'name': ['Adam', 'Anna', 'Krzysztof'],\n",
       " 'id': [100, 134, 140],\n",
       " 'position': ['manager', 'data engineer', 'analytics engineer']}"
      ]
     },
     "execution_count": 5,
     "metadata": {},
     "output_type": "execute_result"
    }
   ],
   "source": [
    "slownik = {'name': ['Adam', 'Anna', 'Krzysztof'], 'id': [100, 134, 140], 'position': ['manager', 'data engineer', 'analytics engineer']}\n",
    "slownik"
   ]
  },
  {
   "cell_type": "code",
   "execution_count": 7,
   "metadata": {},
   "outputs": [
    {
     "data": {
      "text/plain": [
       "134"
      ]
     },
     "execution_count": 7,
     "metadata": {},
     "output_type": "execute_result"
    }
   ],
   "source": [
    "# Wyswietlić wartość 134 znajdującą się w słowniku\n",
    "lista_liczb = slownik['id']\n",
    "lista_liczb[1]"
   ]
  },
  {
   "cell_type": "code",
   "execution_count": 8,
   "metadata": {},
   "outputs": [
    {
     "data": {
      "text/plain": [
       "134"
      ]
     },
     "execution_count": 8,
     "metadata": {},
     "output_type": "execute_result"
    }
   ],
   "source": [
    "slownik['id'][1]"
   ]
  },
  {
   "cell_type": "code",
   "execution_count": 9,
   "metadata": {},
   "outputs": [
    {
     "data": {
      "text/plain": [
       "{'innerkey': [1, 2, 3]}"
      ]
     },
     "execution_count": 9,
     "metadata": {},
     "output_type": "execute_result"
    }
   ],
   "source": [
    "# Słownik którego wartością jest inny słownik\n",
    "odczyt_json = {'k1': {'innerkey': [1, 2, 3]}}\n",
    "odczyt_json\n",
    "# Wyświetl wartość spod klucza k1\n",
    "odczyt_json[\"k1\"]"
   ]
  },
  {
   "cell_type": "markdown",
   "metadata": {},
   "source": [
    "1. Wygeneruj 20 liczb (0-19), następnie ustaw każdą parzystą liczbę jako klucz w słowniku\n",
    "a wartość jako kwadrat klucza. Wydrukuj słownik na końcu."
   ]
  },
  {
   "cell_type": "code",
   "execution_count": 21,
   "metadata": {},
   "outputs": [
    {
     "data": {
      "text/plain": [
       "{0: 0, 2: 4, 4: 16, 6: 36, 8: 64, 10: 100, 12: 144, 14: 196, 16: 256, 18: 324}"
      ]
     },
     "execution_count": 21,
     "metadata": {},
     "output_type": "execute_result"
    }
   ],
   "source": [
    "liczby = list(range(0, 20, 2))\n",
    "słownik_kwadratow = dict()\n",
    "\n",
    "for liczba in liczby:\n",
    "    słownik_kwadratow[liczba] = liczba** 2\n",
    "\n",
    "słownik_kwadratow\n",
    " "
   ]
  },
  {
   "cell_type": "markdown",
   "metadata": {},
   "source": [
    "2. Napisz program, który obliczy sumę wartości ze słownika: Przykład:\n",
    "słownik = {'a': 100, 'b': 200, 'c': 300, 'd': 400}\n",
    "Wynik programu: 1000"
   ]
  },
  {
   "cell_type": "code",
   "execution_count": null,
   "metadata": {},
   "outputs": [],
   "source": []
  },
  {
   "cell_type": "markdown",
   "metadata": {},
   "source": [
    "3. Napisz program usuwający duplikaty słow ze stringa.\n",
    "Przykład:\n",
    "input: \"Lubię matematykę i lubię programować w języku python\".\n",
    "output: \"Lubię matematykę i programować w języku python\".\n",
    "Wskazówka: Napis można podzielić za pomocą metody split(), wynikiem będzie lista słów. "
   ]
  },
  {
   "cell_type": "code",
   "execution_count": null,
   "metadata": {},
   "outputs": [],
   "source": []
  },
  {
   "cell_type": "markdown",
   "metadata": {},
   "source": [
    "4. Napisz program, która pobiera napis jednolinijkowy, a następnie wypisuje\n",
    "najczęściej występującą literę w tym napisie. Program powinien zignorować \" \" (spację).\n",
    "Najczęstsza litera powinna być wydrukowaną jako wielka litera. Jeśli najczęściej pojawia się\n",
    "więcej niż jedna litera, wystarczy wydrukować którąkolwiek z nich (dla ambitnych: napisz wszystkie takie litery)\n",
    "Wskazówka: wykorzystaj słownik w tym zadaniu."
   ]
  },
  {
   "cell_type": "code",
   "execution_count": null,
   "metadata": {},
   "outputs": [],
   "source": []
  }
 ],
 "metadata": {
  "kernelspec": {
   "display_name": "Python 3.10.5 64-bit",
   "language": "python",
   "name": "python3"
  },
  "language_info": {
   "codemirror_mode": {
    "name": "ipython",
    "version": 3
   },
   "file_extension": ".py",
   "mimetype": "text/x-python",
   "name": "python",
   "nbconvert_exporter": "python",
   "pygments_lexer": "ipython3",
   "version": "3.10.5"
  },
  "orig_nbformat": 4,
  "vscode": {
   "interpreter": {
    "hash": "fb4569285eef3a3450cb62085a5b1e0da4bce0af555edc33dcf29baf3acc1368"
   }
  }
 },
 "nbformat": 4,
 "nbformat_minor": 2
}
