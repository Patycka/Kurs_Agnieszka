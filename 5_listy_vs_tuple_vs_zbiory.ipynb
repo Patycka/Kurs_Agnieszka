{
 "cells": [
  {
   "cell_type": "code",
   "execution_count": 21,
   "metadata": {},
   "outputs": [],
   "source": [
    "# Zbiór / set\n",
    "colours = {'green', 'blue', 'red', 'black'}"
   ]
  },
  {
   "cell_type": "code",
   "execution_count": 22,
   "metadata": {},
   "outputs": [
    {
     "name": "stdout",
     "output_type": "stream",
     "text": [
      "{'pink', 'black', 'blue', 'yellow', 'green', 'red'}\n"
     ]
    }
   ],
   "source": [
    "# Dodaj nowy kolor do zbioru za pomocą odpowiedniej metody\n",
    "# strona z wszystkimi metodami dla zbiorów https://www.w3schools.com/python/python_ref_set.asp\n",
    "\n",
    "# Zbiór jest nieuporządkowany\n",
    "colours.add(\"pink\")\n",
    "colours.add(\"yellow\")\n",
    "print(colours)"
   ]
  },
  {
   "cell_type": "code",
   "execution_count": 23,
   "metadata": {},
   "outputs": [
    {
     "name": "stdout",
     "output_type": "stream",
     "text": [
      "{'pink', 'black', 'blue', 'yellow', 'green', 'red'}\n"
     ]
    }
   ],
   "source": [
    "# Spróbuj dodać już istniejący kolor do zbioru, następnie wyświetl zbiór\n",
    "\n",
    "# W zbiorze wartości nie mogą się powtarzać, czyli unikatowe wartości\n",
    "colours.add(\"green\")\n",
    "print(colours)"
   ]
  },
  {
   "cell_type": "code",
   "execution_count": 24,
   "metadata": {},
   "outputs": [
    {
     "data": {
      "text/plain": [
       "3"
      ]
     },
     "execution_count": 24,
     "metadata": {},
     "output_type": "execute_result"
    }
   ],
   "source": [
    "napis = '1'\n",
    "type(napis)\n",
    "napis = int(napis)\n",
    "suma = 2 + napis\n",
    "suma"
   ]
  },
  {
   "cell_type": "code",
   "execution_count": 25,
   "metadata": {},
   "outputs": [
    {
     "data": {
      "text/plain": [
       "['pink', 'black', 'blue', 'yellow', 'green', 'red']"
      ]
     },
     "execution_count": 25,
     "metadata": {},
     "output_type": "execute_result"
    }
   ],
   "source": [
    "lista_kolorów = ['pink', 'black', 'blue', 'yellow', 'green', 'red']\n",
    "lista_kolorów.append(\"green\")\n",
    "# Chcemy mieć na liście tylko unikatowe wartości\n",
    "zbior_kolorow = set(lista_kolorów)\n",
    "zbior_kolorow\n",
    "lista_unikatowych_kolorow = list(zbior_kolorow)\n",
    "lista_unikatowych_kolorow\n",
    "# print(lista_kolorów)"
   ]
  },
  {
   "cell_type": "code",
   "execution_count": 26,
   "metadata": {},
   "outputs": [
    {
     "data": {
      "text/plain": [
       "{'black', 'blue', 'green', 'red', 'yellow'}"
      ]
     },
     "execution_count": 26,
     "metadata": {},
     "output_type": "execute_result"
    }
   ],
   "source": [
    "# Usuń element ze zbioru najpierw przypadkowy, a później wyspecyfikuj konkretny\n",
    "colours.pop()\n",
    "colours"
   ]
  },
  {
   "cell_type": "code",
   "execution_count": 27,
   "metadata": {},
   "outputs": [
    {
     "data": {
      "text/plain": [
       "{'blue', 'green', 'red', 'yellow'}"
      ]
     },
     "execution_count": 27,
     "metadata": {},
     "output_type": "execute_result"
    }
   ],
   "source": [
    "colours.remove(\"black\")\n",
    "colours"
   ]
  },
  {
   "cell_type": "code",
   "execution_count": 29,
   "metadata": {},
   "outputs": [
    {
     "ename": "TypeError",
     "evalue": "'set' object is not subscriptable",
     "output_type": "error",
     "traceback": [
      "\u001b[1;31m---------------------------------------------------------------------------\u001b[0m",
      "\u001b[1;31mTypeError\u001b[0m                                 Traceback (most recent call last)",
      "\u001b[1;32mc:\\Korepetycje\\python\\Python_kurs\\Kurs_Agnieszka\\5_listy_vs_tuple_vs_zbiory.ipynb Komórka 8\u001b[0m in \u001b[0;36m<cell line: 3>\u001b[1;34m()\u001b[0m\n\u001b[0;32m      <a href='vscode-notebook-cell:/c%3A/Korepetycje/python/Python_kurs/Kurs_Agnieszka/5_listy_vs_tuple_vs_zbiory.ipynb#W4sZmlsZQ%3D%3D?line=0'>1</a>\u001b[0m \u001b[39m# Spróbuj za pomocą indeksu wypisać drugi element zbioru, spróbuj również zmodyfikować jakiś element\u001b[39;00m\n\u001b[0;32m      <a href='vscode-notebook-cell:/c%3A/Korepetycje/python/Python_kurs/Kurs_Agnieszka/5_listy_vs_tuple_vs_zbiory.ipynb#W4sZmlsZQ%3D%3D?line=1'>2</a>\u001b[0m lista_unikatowych_kolorow[\u001b[39m2\u001b[39m]\n\u001b[1;32m----> <a href='vscode-notebook-cell:/c%3A/Korepetycje/python/Python_kurs/Kurs_Agnieszka/5_listy_vs_tuple_vs_zbiory.ipynb#W4sZmlsZQ%3D%3D?line=2'>3</a>\u001b[0m colours[\u001b[39m2\u001b[39;49m]\n",
      "\u001b[1;31mTypeError\u001b[0m: 'set' object is not subscriptable"
     ]
    }
   ],
   "source": [
    "# Spróbuj za pomocą indeksu wypisać drugi element zbioru, spróbuj również zmodyfikować jakiś element\n",
    "lista_unikatowych_kolorow[2]\n",
    "# Nie ma możliwości wyświetlenia wartości danego indeksu, nie jest możliwa modyfikacja\n",
    "colours[2]"
   ]
  },
  {
   "cell_type": "code",
   "execution_count": 33,
   "metadata": {},
   "outputs": [
    {
     "name": "stdout",
     "output_type": "stream",
     "text": [
      "red is not in set\n"
     ]
    }
   ],
   "source": [
    "# Sprawdź czy w zbiorze znajduje się kolor red, jeżeli tak to wypisz red is in set\n",
    "if \"red\" in colours:\n",
    "    print(\"red is in set\")\n",
    "else:\n",
    "    print(\"red is not in set\")"
   ]
  },
  {
   "cell_type": "code",
   "execution_count": 35,
   "metadata": {},
   "outputs": [
    {
     "ename": "AttributeError",
     "evalue": "'str' object has no attribute 'add'",
     "output_type": "error",
     "traceback": [
      "\u001b[1;31m---------------------------------------------------------------------------\u001b[0m",
      "\u001b[1;31mAttributeError\u001b[0m                            Traceback (most recent call last)",
      "\u001b[1;32mc:\\Korepetycje\\python\\Python_kurs\\Kurs_Agnieszka\\5_listy_vs_tuple_vs_zbiory.ipynb Komórka 10\u001b[0m in \u001b[0;36m<cell line: 4>\u001b[1;34m()\u001b[0m\n\u001b[0;32m      <a href='vscode-notebook-cell:/c%3A/Korepetycje/python/Python_kurs/Kurs_Agnieszka/5_listy_vs_tuple_vs_zbiory.ipynb#W6sZmlsZQ%3D%3D?line=1'>2</a>\u001b[0m jezyki \u001b[39m=\u001b[39m (\u001b[39m\"\u001b[39m\u001b[39mpython\u001b[39m\u001b[39m\"\u001b[39m)\n\u001b[0;32m      <a href='vscode-notebook-cell:/c%3A/Korepetycje/python/Python_kurs/Kurs_Agnieszka/5_listy_vs_tuple_vs_zbiory.ipynb#W6sZmlsZQ%3D%3D?line=2'>3</a>\u001b[0m jezyki\n\u001b[1;32m----> <a href='vscode-notebook-cell:/c%3A/Korepetycje/python/Python_kurs/Kurs_Agnieszka/5_listy_vs_tuple_vs_zbiory.ipynb#W6sZmlsZQ%3D%3D?line=3'>4</a>\u001b[0m jezyki\u001b[39m.\u001b[39;49madd(\u001b[39m\"\u001b[39m\u001b[39mjava\u001b[39m\u001b[39m\"\u001b[39m)\n",
      "\u001b[1;31mAttributeError\u001b[0m: 'str' object has no attribute 'add'"
     ]
    }
   ],
   "source": [
    "# Stwórz tuple jednoelementową i następnie do powstałej tupli spróbuj coś dodać, czy jest to możliwe?\n",
    "jezyki = (\"python\")\n",
    "jezyki\n",
    "# Nie można dodać nowych elementów do istniejącej już tupli\n",
    "jezyki.add(\"java\")"
   ]
  },
  {
   "cell_type": "code",
   "execution_count": 36,
   "metadata": {},
   "outputs": [
    {
     "name": "stdout",
     "output_type": "stream",
     "text": [
      "2\n"
     ]
    }
   ],
   "source": [
    "# Stwórz tuple 5 liczb typu float, mogą się powtwarzać, za pomocą jednej z metod tupli\n",
    "# policz ile razy wystąpiła wybrana przez Ciebie wartość\n",
    "tupla_float = (2.5, 3.6, 2.5, 4.6, 7.8)\n",
    "x = tupla_float.count(2.5)\n",
    "print(x)"
   ]
  },
  {
   "cell_type": "code",
   "execution_count": 37,
   "metadata": {},
   "outputs": [
    {
     "name": "stdout",
     "output_type": "stream",
     "text": [
      "Anna\n",
      "kowalski\n",
      "18\n"
     ]
    }
   ],
   "source": [
    "# Stwórz tuple przechowującą, imię, nazwisko oraz wiek, następnie wypakuj zawartość tupli do 3 zmiennych\n",
    "dane = (\"Anna\", \"kowalski\", 18)\n",
    "imie, nazwisko, wiek = dane\n",
    "print(imie)\n",
    "print(nazwisko)\n",
    "print(wiek)"
   ]
  },
  {
   "cell_type": "code",
   "execution_count": null,
   "metadata": {},
   "outputs": [],
   "source": [
    "# Napisz program, który wypisze elementy od drugiego do czwartego.\n",
    "tupla = (4, 5, 7, 2, 8)"
   ]
  },
  {
   "cell_type": "code",
   "execution_count": null,
   "metadata": {},
   "outputs": [],
   "source": [
    "# Oblicz średnią liczb w tupli, przypisz wynik do zmiennej średnia i wypisz ją"
   ]
  },
  {
   "cell_type": "code",
   "execution_count": null,
   "metadata": {},
   "outputs": [],
   "source": []
  },
  {
   "cell_type": "code",
   "execution_count": null,
   "metadata": {},
   "outputs": [],
   "source": [
    "'''\n",
    "Przyporządkuj funkcje tworzące złożone typy danych, do ich odpowiedników i do nazw.\n",
    "Wypisz po przecinku np. dict(), {a: b}, słownik\n",
    "1. set()\n",
    "2. list()\n",
    "3. tuple()\n",
    "\n",
    "1. a = []\n",
    "2. b = ()\n",
    "3. c = {}\n",
    "\n",
    "1. set (zbiór)\n",
    "2. tuple (tupla, krotka)\n",
    "3. list (lista)\n",
    "'''"
   ]
  },
  {
   "cell_type": "code",
   "execution_count": null,
   "metadata": {},
   "outputs": [],
   "source": []
  },
  {
   "cell_type": "code",
   "execution_count": null,
   "metadata": {},
   "outputs": [],
   "source": [
    "'''\n",
    "Spośród puli cech dobierz je do typów list, tuple, set\n",
    "\n",
    "modyfikacja wartości, dodawanie wartości, tylko unikatowe wartości, usuwanie wartości,\n",
    "brak ustalonej kolejności, ustalona kolejność niezmienialna, posiada metodę append() i insert(),\n",
    "posiada metodę add() i remove(), brak możliwości modyfikacji, posiada indeksy\n",
    "\n",
    "list:\n",
    "tuple:\n",
    "set: \n",
    "'''\n"
   ]
  }
 ],
 "metadata": {
  "kernelspec": {
   "display_name": "Python 3.10.5 64-bit",
   "language": "python",
   "name": "python3"
  },
  "language_info": {
   "codemirror_mode": {
    "name": "ipython",
    "version": 3
   },
   "file_extension": ".py",
   "mimetype": "text/x-python",
   "name": "python",
   "nbconvert_exporter": "python",
   "pygments_lexer": "ipython3",
   "version": "3.10.5"
  },
  "orig_nbformat": 4,
  "vscode": {
   "interpreter": {
    "hash": "fb4569285eef3a3450cb62085a5b1e0da4bce0af555edc33dcf29baf3acc1368"
   }
  }
 },
 "nbformat": 4,
 "nbformat_minor": 2
}
