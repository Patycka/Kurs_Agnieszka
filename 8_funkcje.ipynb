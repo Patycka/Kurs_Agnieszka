{
 "cells": [
  {
   "cell_type": "markdown",
   "metadata": {},
   "source": [
    "Funkcja przyjmująca argument"
   ]
  },
  {
   "cell_type": "code",
   "execution_count": 2,
   "metadata": {},
   "outputs": [
    {
     "name": "stdout",
     "output_type": "stream",
     "text": [
      "Hello Anna\n"
     ]
    }
   ],
   "source": [
    "def display_name(name):\n",
    "    '''\n",
    "    Przykład docstringu (zawiera opis działania funkcji)\n",
    "    This function displays hello with name passed as an argument\n",
    "    '''\n",
    "    print(f'Hello ' + name)\n",
    "\n",
    "# Funkcja zostanie wykonana w momencie jej wywołania\n",
    "display_name('Anna')"
   ]
  },
  {
   "cell_type": "markdown",
   "metadata": {},
   "source": [
    "Funkcja zwracająca wartość"
   ]
  },
  {
   "cell_type": "code",
   "execution_count": 10,
   "metadata": {},
   "outputs": [
    {
     "name": "stdout",
     "output_type": "stream",
     "text": [
      "lista czteroelementowa\n"
     ]
    }
   ],
   "source": [
    "lista = [1,2,3,4]\n",
    "len(lista)\n",
    "'fgd'.isalpha()\n",
    "\n",
    "\n",
    "if len(lista) == 4:\n",
    "    print(\"lista czteroelementowa\")"
   ]
  },
  {
   "cell_type": "code",
   "execution_count": 6,
   "metadata": {},
   "outputs": [
    {
     "data": {
      "text/plain": [
       "False"
      ]
     },
     "execution_count": 6,
     "metadata": {},
     "output_type": "execute_result"
    }
   ],
   "source": [
    "def check_if_all_even(lista):\n",
    "    '''\n",
    "    Function checks whether all elements in the list are even, if yes returns True, otherwise False.\n",
    "    '''\n",
    "    \n",
    "    for elem in lista:\n",
    "        if elem % 2 != 0:\n",
    "            return False\n",
    "    return True\n",
    "\n",
    "# Wywołanie\n",
    "res = check_if_all_even([13, 6, 8])\n",
    "res"
   ]
  },
  {
   "cell_type": "code",
   "execution_count": 7,
   "metadata": {},
   "outputs": [
    {
     "name": "stdout",
     "output_type": "stream",
     "text": [
      "Przynajmniej jedna nieparzysta\n"
     ]
    }
   ],
   "source": [
    "if check_if_all_even([1, 3, 4, 5]):\n",
    "    print(\"Wszystkie parzyste\")\n",
    "else:\n",
    "    print(\"Przynajmniej jedna nieparzysta\")"
   ]
  },
  {
   "cell_type": "markdown",
   "metadata": {},
   "source": [
    "Zadanie 1. Napisz funkcję iloczyn() przyjmującą jako argument listę liczb i obliczającą iloczyn liczb z listy. Funkcja powinna sprawdzać czy na liście są odpowiednie typy zmiennych (dopuszczalne liczby całkowite i rzeczywiste). Jeżeli lista jest pusta lub zawiera niepoprawne elementy\n",
    "funkcja powinna zwrócić None, w przeciwnym razie wynik mnożenia liczb z listy.\n",
    "Przetestuj funkcję 5 krotnie."
   ]
  },
  {
   "cell_type": "code",
   "execution_count": 20,
   "metadata": {},
   "outputs": [
    {
     "name": "stdout",
     "output_type": "stream",
     "text": [
      "prawda\n"
     ]
    }
   ],
   "source": [
    "zmienna1 = 10\n",
    "zmienna2 = 0\n",
    "if zmienna1 == 10 or zmienna2 == 1:\n",
    "    print(\"prawda\")\n",
    "else:\n",
    "    print('falsz')"
   ]
  },
  {
   "cell_type": "code",
   "execution_count": 21,
   "metadata": {},
   "outputs": [
    {
     "name": "stdout",
     "output_type": "stream",
     "text": [
      "None\n",
      "None\n",
      "None\n",
      "[2, 3, 4]\n"
     ]
    }
   ],
   "source": [
    "def iloczyn(lista):\n",
    "    iloczyn = 1\n",
    "\n",
    "    if type(lista) != list or len(lista) == 0:\n",
    "        return None\n",
    "    for i in lista:\n",
    "        if type(i) != float and type(i) != int:\n",
    "            return None\n",
    "\n",
    "    return lista\n",
    "\n",
    "\n",
    "print(iloczyn([2, 3, 'a']))\n",
    "print(iloczyn(2))\n",
    "print(iloczyn([]))\n",
    "print(iloczyn([2, 3, 4]))\n"
   ]
  },
  {
   "cell_type": "markdown",
   "metadata": {},
   "source": [
    "Zadanie 2. Napisz funkcję zwroc_podzielne() która przyjmuje 2 argumenty. Pierwszy argument to lista liczb całkowitych, a drugi argument to jedna liczba calkowita. Funkcja powinna sprawdzać, które z elementów na liście są podzielne bez reszty przez drugi argument i zwrócić nową listę z tymi podzielnymi. Jeżeli żadna liczba nie jest podzielna przez argument to zwróć pustą listę."
   ]
  },
  {
   "cell_type": "code",
   "execution_count": null,
   "metadata": {},
   "outputs": [],
   "source": [
    "'''\n",
    "Przykład:\n",
    "zwroc_podzielne([1, 2, 3, 4, 5], 2)\n",
    ">>> [2, 4]\n",
    "\n",
    "zwroc_podzielne([1, 2, 3, 4, 5], 6)\n",
    ">>> []\n",
    "'''"
   ]
  },
  {
   "cell_type": "code",
   "execution_count": null,
   "metadata": {},
   "outputs": [],
   "source": []
  },
  {
   "cell_type": "markdown",
   "metadata": {},
   "source": [
    "Zadanie 3. Napisz funkcję znajdz_max_min(), która przyjmuje jako argument listę liczb całkowitych lub rzeczywistych i zwraca dwie wartości najwiekszy element w liscie oraz najmniejszy."
   ]
  },
  {
   "cell_type": "code",
   "execution_count": null,
   "metadata": {},
   "outputs": [],
   "source": []
  },
  {
   "cell_type": "markdown",
   "metadata": {},
   "source": [
    "*Zadanie 4. Napisz funkcję te_same_dzielniki(n, k), której wartością jest True, jeśli liczby n i k mają te same\n",
    "dzielniki pierwsze. Jeśli tak nie jest, wynikiem funkcji ma być False. Należy założyć, że n i k są\n",
    "liczbami całkowitymi większymi od 0.\n",
    "\n",
    "Np. liczba 12 = 2 * 2 * 3 ma dzielniki pierwsze 2 i 3, tak jak liczba 18 = 2 * 3 * 3.\n",
    "Na przykład:\n",
    "<br> te_same_dzielniki(32, 32) == True\n",
    "<br> te_same_dzielniki(12, 18) == True\n",
    "<br> te_same_dzielniki(12, 6) == True\n",
    "<br> te_same_dzielniki(12, 3) == False\n",
    "<br> te_same_dzielniki(2, 3) == False"
   ]
  },
  {
   "cell_type": "code",
   "execution_count": null,
   "metadata": {},
   "outputs": [],
   "source": []
  },
  {
   "cell_type": "markdown",
   "metadata": {},
   "source": [
    "Lambda - funkcja anonimowa"
   ]
  },
  {
   "cell_type": "code",
   "execution_count": null,
   "metadata": {},
   "outputs": [],
   "source": [
    "# Przykład bez funkcji anonimowej\n",
    "def dodawanie(n):\n",
    "    return n + n\n",
    "  \n",
    "# Funkcja map() przyjmuje jako argument funkcję oraz sekwencję wartości. Każda z wartości\n",
    "# jest mapowana według funkcji podanej jako argument\n",
    "numbers = [1, 2, 3, 4]\n",
    "result = map(dodawanie, numbers)\n",
    "print(list(result))"
   ]
  },
  {
   "cell_type": "code",
   "execution_count": 11,
   "metadata": {},
   "outputs": [],
   "source": [
    "# Taki zapis funkcji też jest możliwy\n",
    "def dodawanie(n): return n + n"
   ]
  },
  {
   "cell_type": "code",
   "execution_count": null,
   "metadata": {},
   "outputs": [],
   "source": [
    "# Przykład z użyciem funkcji anonimowej\n",
    "numbers = [1, 2, 3, 4]\n",
    "result = map(lambda x: x + x, numbers)\n",
    "print(list(result))"
   ]
  },
  {
   "cell_type": "code",
   "execution_count": null,
   "metadata": {},
   "outputs": [],
   "source": [
    "f = lambda x: x**2 + 3\n",
    "f(30)"
   ]
  },
  {
   "cell_type": "code",
   "execution_count": 12,
   "metadata": {},
   "outputs": [
    {
     "data": {
      "text/plain": [
       "'PYTHON1'"
      ]
     },
     "execution_count": 12,
     "metadata": {},
     "output_type": "execute_result"
    }
   ],
   "source": [
    "f_2 = lambda word: word.upper()\n",
    "f_2('python1')"
   ]
  },
  {
   "cell_type": "code",
   "execution_count": null,
   "metadata": {},
   "outputs": [],
   "source": [
    "add = lambda x, y: x + y\n",
    "add(3, 5)"
   ]
  },
  {
   "cell_type": "markdown",
   "metadata": {},
   "source": [
    "Zadanie 1. Podana jest lista miast. Używając funkcji map() i wyrażenia lambda uzyskaj listę zawierającą trzy pierwsze litery kazdego miasta, pisane tylko wielkimi literami.\n",
    "cities = ['Warsaw', 'London', 'Berlin', 'New York']"
   ]
  },
  {
   "cell_type": "code",
   "execution_count": null,
   "metadata": {},
   "outputs": [],
   "source": []
  }
 ],
 "metadata": {
  "kernelspec": {
   "display_name": "Python 3.10.5 64-bit",
   "language": "python",
   "name": "python3"
  },
  "language_info": {
   "codemirror_mode": {
    "name": "ipython",
    "version": 3
   },
   "file_extension": ".py",
   "mimetype": "text/x-python",
   "name": "python",
   "nbconvert_exporter": "python",
   "pygments_lexer": "ipython3",
   "version": "3.10.5"
  },
  "orig_nbformat": 4,
  "vscode": {
   "interpreter": {
    "hash": "fb4569285eef3a3450cb62085a5b1e0da4bce0af555edc33dcf29baf3acc1368"
   }
  }
 },
 "nbformat": 4,
 "nbformat_minor": 2
}
