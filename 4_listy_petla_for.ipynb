{
 "cells": [
  {
   "cell_type": "code",
   "execution_count": 4,
   "metadata": {},
   "outputs": [
    {
     "data": {
      "text/plain": [
       "['python', 'java', 'c++', 'go', 'sql']"
      ]
     },
     "execution_count": 4,
     "metadata": {},
     "output_type": "execute_result"
    }
   ],
   "source": [
    "# lista jest zmienialna, dodawać, usuwać elementy, można umieszczać różne typy danych, zachowuje kolejność\n",
    "techs = ['python', 'java', 'c++', 'go', 'sql']\n",
    "numbers = [3, 5, 7, 5.4, 3]\n",
    "list_1 = [3, 'A', 7, 5.4, 3]\n",
    "techs"
   ]
  },
  {
   "cell_type": "code",
   "execution_count": 5,
   "metadata": {},
   "outputs": [
    {
     "data": {
      "text/plain": [
       "[]"
      ]
     },
     "execution_count": 5,
     "metadata": {},
     "output_type": "execute_result"
    }
   ],
   "source": [
    "# Tworzenie pustej listy\n",
    "pusta_lista = list()\n",
    "pusta_lista"
   ]
  },
  {
   "cell_type": "code",
   "execution_count": 6,
   "metadata": {},
   "outputs": [
    {
     "data": {
      "text/plain": [
       "'go'"
      ]
     },
     "execution_count": 6,
     "metadata": {},
     "output_type": "execute_result"
    }
   ],
   "source": [
    "# Dostęp do pojedyńczego elementu listy\n",
    "techs[0]\n",
    "techs[2]\n",
    "# Wypisanie ostatniego elementy\n",
    "techs[4]\n",
    "techs[-1]\n",
    "# przedostatni\n",
    "techs[-2]"
   ]
  },
  {
   "cell_type": "code",
   "execution_count": 7,
   "metadata": {},
   "outputs": [
    {
     "data": {
      "text/plain": [
       "'Python'"
      ]
     },
     "execution_count": 7,
     "metadata": {},
     "output_type": "execute_result"
    }
   ],
   "source": [
    "string = 'Python training'\n",
    "string[0:6]"
   ]
  },
  {
   "cell_type": "code",
   "execution_count": 8,
   "metadata": {},
   "outputs": [
    {
     "data": {
      "text/plain": [
       "['python', 'java', 'c++']"
      ]
     },
     "execution_count": 8,
     "metadata": {},
     "output_type": "execute_result"
    }
   ],
   "source": [
    "# Dostęp do przedziału liczb\n",
    "# Wypisanie pierwszych trzech elementów listy techs\n",
    "techs[0:3]"
   ]
  },
  {
   "cell_type": "code",
   "execution_count": 9,
   "metadata": {},
   "outputs": [
    {
     "name": "stdout",
     "output_type": "stream",
     "text": [
      "jest\n"
     ]
    }
   ],
   "source": [
    "# Sprawdzenie, czy na liście jest jakiś element za pomocą instrukcji if\n",
    "if 'java' in techs:\n",
    "    print(\"jest\")"
   ]
  },
  {
   "cell_type": "code",
   "execution_count": 10,
   "metadata": {},
   "outputs": [
    {
     "data": {
      "text/plain": [
       "['python', 'java script', 'c++', 'go', 'sql']"
      ]
     },
     "execution_count": 10,
     "metadata": {},
     "output_type": "execute_result"
    }
   ],
   "source": [
    "# Zmiana elementu na liście\n",
    "techs\n",
    "techs[1] = 'java script'\n",
    "techs"
   ]
  },
  {
   "cell_type": "code",
   "execution_count": 11,
   "metadata": {},
   "outputs": [
    {
     "data": {
      "text/plain": [
       "['python', 'java script', 'c++', 'go', 'sql', 3]"
      ]
     },
     "execution_count": 11,
     "metadata": {},
     "output_type": "execute_result"
    }
   ],
   "source": [
    "# Metoda append() wstawiająca element na koniec listy. Metoda insert() wstawiająca element w wybrane miejsce.\n",
    "techs.append(3)\n",
    "techs"
   ]
  },
  {
   "cell_type": "code",
   "execution_count": 12,
   "metadata": {},
   "outputs": [
    {
     "data": {
      "text/plain": [
       "6"
      ]
     },
     "execution_count": 12,
     "metadata": {},
     "output_type": "execute_result"
    }
   ],
   "source": [
    "len(techs)"
   ]
  },
  {
   "cell_type": "code",
   "execution_count": 13,
   "metadata": {},
   "outputs": [
    {
     "data": {
      "text/plain": [
       "['python', 'java script', 'c++', 'go', 'sql', 3, 2, 7]"
      ]
     },
     "execution_count": 13,
     "metadata": {},
     "output_type": "execute_result"
    }
   ],
   "source": [
    "# Dodawanie elementów do listy poprzez +=\n",
    "techs += [2, 7]\n",
    "techs "
   ]
  },
  {
   "cell_type": "code",
   "execution_count": 14,
   "metadata": {},
   "outputs": [
    {
     "data": {
      "text/plain": [
       "8"
      ]
     },
     "execution_count": 14,
     "metadata": {},
     "output_type": "execute_result"
    }
   ],
   "source": [
    "len(techs)"
   ]
  },
  {
   "cell_type": "code",
   "execution_count": 15,
   "metadata": {},
   "outputs": [
    {
     "name": "stdout",
     "output_type": "stream",
     "text": [
      "['polski', 'matematyka', 'fizyka', 'angielski', 'historia']\n",
      "['matematyka', 'fizyka', 'angielski', 'historia']\n"
     ]
    }
   ],
   "source": [
    "# Usuwanie elementów z listy\n",
    "przedmioty = ['polski', 'matematyka', 'fizyka', 'angielski', 'historia']\n",
    "print(przedmioty)\n",
    "del przedmioty[0]\n",
    "print(przedmioty)\n"
   ]
  },
  {
   "cell_type": "code",
   "execution_count": 16,
   "metadata": {},
   "outputs": [
    {
     "name": "stdout",
     "output_type": "stream",
     "text": [
      "['polski', 'matematyka', 'fizyka', 'angielski', 'historia']\n",
      "['polski', 'matematyka', 'fizyka', 'angielski']\n"
     ]
    }
   ],
   "source": [
    "# pop wyrzuca ostatni element z listy i zwraca go. Lista traktowana jest jako stos,\n",
    "# usuwany jest element z gory stosu, gdzie góra stosu to ostatni element listy, czyli ten ostatnio dodany\n",
    "# Pop pozwala używać elementu po jego usunięciu i wyswietlac np. ostatnio dodany element do listy\n",
    "przedmioty = ['polski', 'matematyka', 'fizyka', 'angielski', 'historia']\n",
    "print(przedmioty)\n",
    "usuniety_element = przedmioty.pop()\n",
    "print(przedmioty)"
   ]
  },
  {
   "cell_type": "code",
   "execution_count": 17,
   "metadata": {},
   "outputs": [
    {
     "name": "stdout",
     "output_type": "stream",
     "text": [
      "['polski', 'matematyka', 'fizyka', 'angielski', 'historia']\n",
      "['polski', 'fizyka', 'angielski', 'historia']\n"
     ]
    }
   ],
   "source": [
    "# Usuniecie konkretnego elementu z listy za pomocą pop(indekss). Pop i del ma zatem podobną\n",
    "# funkcjonalnosc, a jeżeli chce sie przechować usuwany element to pop()\n",
    "przedmioty = ['polski', 'matematyka', 'fizyka', 'angielski', 'historia']\n",
    "print(przedmioty)\n",
    "usuniety_element = przedmioty.pop(1)\n",
    "print(przedmioty)"
   ]
  },
  {
   "cell_type": "code",
   "execution_count": 18,
   "metadata": {},
   "outputs": [
    {
     "name": "stdout",
     "output_type": "stream",
     "text": [
      "['polski', 'matematyka', 'fizyka', 'angielski', 'historia']\n"
     ]
    },
    {
     "data": {
      "text/plain": [
       "['polski', 'matematyka', 'angielski', 'historia']"
      ]
     },
     "execution_count": 18,
     "metadata": {},
     "output_type": "execute_result"
    }
   ],
   "source": [
    "przedmioty = ['polski', 'matematyka', 'fizyka', 'angielski', 'historia']\n",
    "print(przedmioty)\n",
    "latwe = 'wf'\n",
    "# przedmioty.remove('fizyka')\n",
    "przedmioty.pop(2)\n",
    "przedmioty\n"
   ]
  },
  {
   "cell_type": "markdown",
   "metadata": {},
   "source": [
    "### Zadania"
   ]
  },
  {
   "cell_type": "code",
   "execution_count": 19,
   "metadata": {},
   "outputs": [
    {
     "name": "stdout",
     "output_type": "stream",
     "text": [
      "56700\n"
     ]
    }
   ],
   "source": [
    "# 1. Stwórz listę składającą się z następujących liczb: 2, 5, 6, 7, 9, 3, 5. Następnie oblicz iloczyn tych liczb. Obliczony iloczyn powinien być wyświetlony raz.\n",
    "cyfry = [2, 5, 6, 7, 9, 3, 5]\n",
    "wynik_iloczynu = 1\n",
    "for i in cyfry:\n",
    "    wynik_iloczynu *= i\n",
    "\n",
    "print(wynik_iloczynu)\n"
   ]
  },
  {
   "cell_type": "code",
   "execution_count": 20,
   "metadata": {},
   "outputs": [
    {
     "name": "stdout",
     "output_type": "stream",
     "text": [
      "3\n"
     ]
    }
   ],
   "source": [
    "# 2. Stwórz listę składającą się z następujących liter: \"p\", \"a\", \"r\", \"k\", \"o\", \"p\", \"y\n",
    "# \", \"g\", \"p\", \"z\". Następnie za pomocą pętli oblicz ile razy wystąpiła litera p. Wyświetl na końcu tą ilość.\n",
    "litery = [\"p\", \"a\", \"r\", \"k\", \"o\", \"p\", \"y\", \"g\", \"p\", \"z\"]\n",
    "ilosc_p = 0\n",
    "for i in litery:\n",
    "    if i == \"p\":\n",
    "        ilosc_p += 1\n",
    "print(ilosc_p)"
   ]
  },
  {
   "cell_type": "code",
   "execution_count": 21,
   "metadata": {},
   "outputs": [
    {
     "name": "stdout",
     "output_type": "stream",
     "text": [
      "8\n"
     ]
    }
   ],
   "source": [
    "# 3. Stwórz listę składającą się z następujących liczb: 2, 5, 6, 7, 9, 3, 5, 8, 52. \n",
    "# Następnie oblicz sumę tylko tych liczb które są parzyste i mniejsze od 8. \n",
    "# Obliczona suma powinna być wyświetlona raz.\n",
    "liczby = [2, 5, 6, 7, 9, 3, 5, 8, 52] \n",
    "wynik_sumy = 0 \n",
    "for i in liczby: \n",
    "    if i % 2 == 0 and i < 8: \n",
    "        wynik_sumy += i \n",
    "print(wynik_sumy)"
   ]
  },
  {
   "cell_type": "code",
   "execution_count": 22,
   "metadata": {},
   "outputs": [
    {
     "data": {
      "text/plain": [
       "[10,\n",
       " '*',\n",
       " 11,\n",
       " '*',\n",
       " 12,\n",
       " '*',\n",
       " 13,\n",
       " '*',\n",
       " 14,\n",
       " '*',\n",
       " 15,\n",
       " '*',\n",
       " 16,\n",
       " '*',\n",
       " 17,\n",
       " '*',\n",
       " 18,\n",
       " '*',\n",
       " 19,\n",
       " '*',\n",
       " 20,\n",
       " '*',\n",
       " 21,\n",
       " '*',\n",
       " 22,\n",
       " '*',\n",
       " 23,\n",
       " '*',\n",
       " 24,\n",
       " '*',\n",
       " 25,\n",
       " '*',\n",
       " 26,\n",
       " '*',\n",
       " 27,\n",
       " '*',\n",
       " 28,\n",
       " '*',\n",
       " 29,\n",
       " '*',\n",
       " 30,\n",
       " '*',\n",
       " 31,\n",
       " '*',\n",
       " 32,\n",
       " '*',\n",
       " 33,\n",
       " '*',\n",
       " 34,\n",
       " '*',\n",
       " 35,\n",
       " '*',\n",
       " 36,\n",
       " '*',\n",
       " 37,\n",
       " '*',\n",
       " 38,\n",
       " '*',\n",
       " 39,\n",
       " '*',\n",
       " 40,\n",
       " '*',\n",
       " 41,\n",
       " '*',\n",
       " 42,\n",
       " '*',\n",
       " 43,\n",
       " '*',\n",
       " 44,\n",
       " '*',\n",
       " 45,\n",
       " '*',\n",
       " 46,\n",
       " '*',\n",
       " 47,\n",
       " '*',\n",
       " 48,\n",
       " '*',\n",
       " 49,\n",
       " '*',\n",
       " 50,\n",
       " '*',\n",
       " 51,\n",
       " '*',\n",
       " 52,\n",
       " '*',\n",
       " 53,\n",
       " '*',\n",
       " 54,\n",
       " '*',\n",
       " 55,\n",
       " '*',\n",
       " 56,\n",
       " '*',\n",
       " 57,\n",
       " '*',\n",
       " 58,\n",
       " '*',\n",
       " 59,\n",
       " '*',\n",
       " 60,\n",
       " '*',\n",
       " 61,\n",
       " '*',\n",
       " 62,\n",
       " '*',\n",
       " 63,\n",
       " '*',\n",
       " 64,\n",
       " '*',\n",
       " 65,\n",
       " '*',\n",
       " 66,\n",
       " '*',\n",
       " 67,\n",
       " '*',\n",
       " 68,\n",
       " '*',\n",
       " 69,\n",
       " '*',\n",
       " 70,\n",
       " '*',\n",
       " 71,\n",
       " '*',\n",
       " 72,\n",
       " '*',\n",
       " 73,\n",
       " '*',\n",
       " 74,\n",
       " '*',\n",
       " 75,\n",
       " '*',\n",
       " 76,\n",
       " '*',\n",
       " 77,\n",
       " '*',\n",
       " 78,\n",
       " '*',\n",
       " 79,\n",
       " '*',\n",
       " 80,\n",
       " '*',\n",
       " 81,\n",
       " '*',\n",
       " 82,\n",
       " '*',\n",
       " 83,\n",
       " '*',\n",
       " 84,\n",
       " '*',\n",
       " 85,\n",
       " '*',\n",
       " 86,\n",
       " '*',\n",
       " 87,\n",
       " '*',\n",
       " 88,\n",
       " '*',\n",
       " 89,\n",
       " '*',\n",
       " 90,\n",
       " '*',\n",
       " 91,\n",
       " '*',\n",
       " 92,\n",
       " '*',\n",
       " 93,\n",
       " '*',\n",
       " 94,\n",
       " '*',\n",
       " 95,\n",
       " '*',\n",
       " 96,\n",
       " '*',\n",
       " 97,\n",
       " '*',\n",
       " 98,\n",
       " '*',\n",
       " 99,\n",
       " '*',\n",
       " 100,\n",
       " '*']"
      ]
     },
     "execution_count": 22,
     "metadata": {},
     "output_type": "execute_result"
    }
   ],
   "source": [
    "# 4. Za pomocą range() wygeneruj liczby od 10 do 100. Każdą z liczb dodaj do listy,\n",
    "# jednak zrób to tak aby po każdym dodanym elemencie do listy została dodana gwiazdka.\n",
    "# Przykładowe output:\n",
    "# [10, '*', 11, '*', 12, '*', itd...]\n",
    "lista = list()\n",
    "\n",
    "for i in range(10, 101):\n",
    "    lista.append(i)\n",
    "    lista.append(\"*\")\n",
    "lista"
   ]
  },
  {
   "cell_type": "code",
   "execution_count": 31,
   "metadata": {},
   "outputs": [
    {
     "name": "stdout",
     "output_type": "stream",
     "text": [
      "2\n",
      "5\n",
      "6\n",
      "7\n",
      "9\n",
      "3\n",
      "5\n",
      "8\n",
      "52\n"
     ]
    }
   ],
   "source": [
    "liczby = [2, 5, 6, 7, 9, 3, 5, 8, 52]\n",
    "\n",
    "for i in range(len(liczby)):\n",
    "    print(liczby[i])\n"
   ]
  },
  {
   "cell_type": "code",
   "execution_count": 34,
   "metadata": {},
   "outputs": [
    {
     "name": "stdout",
     "output_type": "stream",
     "text": [
      "(0, 2)\n",
      "(1, 5)\n",
      "(2, 6)\n",
      "(3, 7)\n",
      "(4, 9)\n",
      "(5, 3)\n",
      "(6, 5)\n",
      "(7, 8)\n",
      "(8, 52)\n"
     ]
    }
   ],
   "source": [
    "#list(enumerate(liczby))\n",
    "for element in enumerate(liczby):\n",
    "    print(element)"
   ]
  },
  {
   "cell_type": "code",
   "execution_count": 37,
   "metadata": {},
   "outputs": [
    {
     "name": "stdout",
     "output_type": "stream",
     "text": [
      "0 2\n",
      "1 5\n",
      "2 6\n",
      "3 7\n",
      "4 9\n",
      "5 3\n",
      "6 5\n",
      "7 8\n",
      "8 52\n"
     ]
    }
   ],
   "source": [
    "for indeks, wartosc in enumerate(liczby):\n",
    "    print(indeks, wartosc)"
   ]
  },
  {
   "cell_type": "code",
   "execution_count": 55,
   "metadata": {},
   "outputs": [
    {
     "name": "stdout",
     "output_type": "stream",
     "text": [
      "mleko: 5.1\n",
      "bułka: 2.4\n",
      "ser: 8\n",
      "snikers: 4.6\n",
      "Suma:\n",
      "----------\n",
      "20.1\n"
     ]
    }
   ],
   "source": [
    "'''\n",
    "Zadanie 5\n",
    "Napisz program, który wykorzystując pętlę for oraz stworzone listy:\n",
    "\n",
    "produkty: zawierają informację o nazwie zakupionych produktów;\n",
    "sztuki: zawierają informację o liczbie zakupionych produktów;\n",
    "ceny: zawierają informację o cenie zakupionych produktów;\n",
    "Stwórz instrukcję wyświetlającą informacje o kwocie do zapłaty dla \n",
    "poszczególnych produktów oraz kwotę całego rachunku.\n",
    "\n",
    "Wynik:\n",
    "\n",
    "mleko: 5.1\n",
    "bułka: 2.4\n",
    "ser: 8\n",
    "snikers: 4.6\n",
    "Suma:\n",
    "--------------------\n",
    "20.1\n",
    "\n",
    "'''\n",
    "\n",
    "produkty = [\"mleko\", \"bułka\", \"ser\", \"snikers\"]\n",
    "sztuki = [2, 4, 1, 2,]\n",
    "ceny = [2.55,0.60,8,2.30]\n",
    "wynik_iloczynu = 1\n",
    "wynik_sumy = 0\n",
    "\n",
    "for indeks, wartość in enumerate(sztuki):\n",
    "    #print(wartość)\n",
    "    wynik_iloczynu= sztuki[indeks] * ceny[indeks]\n",
    "    wynik_sumy += wynik_iloczynu\n",
    "    print(f\"{produkty[indeks]}: {wynik_iloczynu}\")\n",
    "print(\"Suma:\")\n",
    "print(\"-\"*10)\n",
    "print(wynik_sumy)\n"
   ]
  },
  {
   "cell_type": "code",
   "execution_count": null,
   "metadata": {},
   "outputs": [],
   "source": [
    "'''\n",
    "Zadanie 6.\n",
    "Napisz program, który wyświetli kolejno państwa, które zdobyły mistrzostwo w Pucharze Świata w Rugby w XXI wieku.\n",
    "\n",
    "Wynik\n",
    "\n",
    "Anglia\n",
    "Południowa Afryka\n",
    "Nowa Zelandia\n",
    "Nowa Zelandia\n",
    "Południowa Afryka\n",
    "\n",
    "'''\n",
    "\n",
    "mistrzowie = ['Nowa Zelandia', 'Australia', 'Południowa Afryka', 'Australia', 'Anglia', 'Południowa Afryka',\n",
    "        'Nowa Zelandia', 'Nowa Zelandia', 'Południowa Afryka']\n",
    "rok = [1987, 1991, 1995, 1999, 2003, 2007, 2011, 2015, 2019]"
   ]
  },
  {
   "cell_type": "code",
   "execution_count": 4,
   "metadata": {},
   "outputs": [
    {
     "name": "stdout",
     "output_type": "stream",
     "text": [
      "Anglia\n",
      "Południowa Afryka\n",
      "Nowa Zelandia\n",
      "Nowa Zelandia\n",
      "Południowa Afryka\n"
     ]
    }
   ],
   "source": [
    "mistrzowie = ['Nowa Zelandia', 'Australia', 'Południowa Afryka', 'Australia', 'Anglia', 'Południowa Afryka',\n",
    "        'Nowa Zelandia', 'Nowa Zelandia', 'Południowa Afryka']\n",
    "rok = [1987, 1991, 1995, 1999, 2003, 2007, 2011, 2015, 2019]\n",
    "\n",
    "for indeks, wartość in enumerate(rok):\n",
    "    if wartość > 2000:\n",
    "        print(mistrzowie[indeks])\n"
   ]
  },
  {
   "cell_type": "code",
   "execution_count": null,
   "metadata": {},
   "outputs": [],
   "source": [
    "'''\n",
    "Zadanie 3.\n",
    "Napisz program, który wyświetli kolejno państwa, które zdobyły mistrzostwo w Pucharze Świata w Rugby wraz z informacją o liczbie zdobytych pucharów.\n",
    "\n",
    "UWAGA: Nie korzystaj z iterowalnego obiektu range()\n",
    "\n",
    "WSKAZÓWKA: Obiekt set() utworzy zbiór unikatowych wartości listy\n",
    "\n",
    "lista = ['a', 'a', 'b', 'b', 'b', 'c']\n",
    "set(lista) -> {'a', 'b', 'c'}\n",
    "WSKAZÓWKA: Metoda count() klasy <list> pozwala na zliczenie liczby wystąpień w liście podanej wartości\n",
    "\n",
    "lista = [11,11,22,33]\n",
    "lista.count(11) -> 2\n",
    "\n",
    "Anglia 1\n",
    "Południowa Afryka 3\n",
    "Nowa Zelandia 3\n",
    "Australia 2\n",
    "'''\n",
    "\n",
    "mistrzowie = ['Nowa Zelandia', 'Australia', 'Południowa Afryka', 'Australia', 'Anglia', 'Południowa Afryka',\n",
    "        'Nowa Zelandia', 'Nowa Zelandia', 'Południowa Afryka']\n"
   ]
  },
  {
   "cell_type": "code",
   "execution_count": null,
   "metadata": {},
   "outputs": [],
   "source": []
  }
 ],
 "metadata": {
  "kernelspec": {
   "display_name": "Python 3.10.5 64-bit",
   "language": "python",
   "name": "python3"
  },
  "language_info": {
   "codemirror_mode": {
    "name": "ipython",
    "version": 3
   },
   "file_extension": ".py",
   "mimetype": "text/x-python",
   "name": "python",
   "nbconvert_exporter": "python",
   "pygments_lexer": "ipython3",
   "version": "3.10.5"
  },
  "orig_nbformat": 4,
  "vscode": {
   "interpreter": {
    "hash": "fb4569285eef3a3450cb62085a5b1e0da4bce0af555edc33dcf29baf3acc1368"
   }
  }
 },
 "nbformat": 4,
 "nbformat_minor": 2
}
