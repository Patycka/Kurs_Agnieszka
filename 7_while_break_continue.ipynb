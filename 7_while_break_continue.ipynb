{
 "cells": [
  {
   "cell_type": "markdown",
   "metadata": {},
   "source": [
    "Pętla while"
   ]
  },
  {
   "cell_type": "code",
   "execution_count": 4,
   "metadata": {},
   "outputs": [
    {
     "name": "stdout",
     "output_type": "stream",
     "text": [
      "0\n",
      "1\n",
      "2\n",
      "3\n",
      "4\n"
     ]
    }
   ],
   "source": [
    "i = 0\n",
    "while i < 5:\n",
    "    print(i)\n",
    "    i += 1"
   ]
  },
  {
   "cell_type": "code",
   "execution_count": 2,
   "metadata": {},
   "outputs": [
    {
     "name": "stdout",
     "output_type": "stream",
     "text": [
      "0\n",
      "1\n",
      "2\n",
      "3\n",
      "4\n"
     ]
    }
   ],
   "source": [
    "for i in range(5):\n",
    "    print(i)"
   ]
  },
  {
   "cell_type": "code",
   "execution_count": null,
   "metadata": {},
   "outputs": [],
   "source": []
  },
  {
   "cell_type": "code",
   "execution_count": 1,
   "metadata": {},
   "outputs": [
    {
     "name": "stdout",
     "output_type": "stream",
     "text": [
      "0\n",
      "1\n",
      "2\n",
      "3\n",
      "4\n",
      "5\n",
      "6\n",
      "7\n",
      "8\n",
      "9\n",
      "10\n"
     ]
    }
   ],
   "source": [
    "# Aby napisać pętle wykonującą sie nieskończenie wiele razy, można napisać while True\n",
    "# Jednocześnie zatrzymanie takiej pętli jest możliwe poprzez użycie instrukcji break\n",
    "n = 0\n",
    "while True:\n",
    "    print(n)\n",
    "    if n >= 10:\n",
    "        break\n",
    "    n += 1"
   ]
  },
  {
   "cell_type": "code",
   "execution_count": 2,
   "metadata": {},
   "outputs": [
    {
     "data": {
      "text/plain": [
       "'a'"
      ]
     },
     "execution_count": 2,
     "metadata": {},
     "output_type": "execute_result"
    }
   ],
   "source": [
    "imie = \"anna\"\n",
    "imie[0]"
   ]
  },
  {
   "cell_type": "code",
   "execution_count": 4,
   "metadata": {},
   "outputs": [],
   "source": [
    "# Napisz program pobierający kolory aż do momentu podania przez użytkownika kolory rozpoczynającego\n",
    "# się od liter \"cz\".\n",
    "while True:\n",
    "    kolor = input(\"Podaj kolor: \")\n",
    "    if kolor[0:2].lower() == 'cz':\n",
    "        break\n"
   ]
  },
  {
   "cell_type": "code",
   "execution_count": 1,
   "metadata": {},
   "outputs": [],
   "source": [
    "# Walidacja loginu, niech uzytkownik podaje login az do momentu gdy bedzie miał długość\n",
    "# powyżej 3 i ma zawierać tylko litery. Program ma wyświetlić powitanie np. Cześć <login>\n",
    "while True:\n",
    "    login = input(\"Czesc,Podaj login: \")\n",
    "    if len(login) > 3:\n",
    "        if login.isalpha():\n",
    "           print(f'Czesc {login}')\n",
    "           break"
   ]
  },
  {
   "cell_type": "code",
   "execution_count": 5,
   "metadata": {},
   "outputs": [
    {
     "name": "stdout",
     "output_type": "stream",
     "text": [
      "2\n",
      "4\n",
      "6\n",
      "8\n",
      "10\n",
      "12\n",
      "14\n",
      "16\n",
      "18\n",
      "20\n"
     ]
    }
   ],
   "source": [
    "# Napisz program generujący 20 liczb, wypisz tylko te podzielne przez 2, użyj continue\n",
    "\n",
    "lista = list(range(1, 21))\n",
    "\n",
    "i = 0\n",
    "while i < len(lista):\n",
    "    i += 1\n",
    "    if i % 2 == 1:\n",
    "        continue\n",
    "    print(i)\n"
   ]
  },
  {
   "cell_type": "code",
   "execution_count": null,
   "metadata": {},
   "outputs": [],
   "source": [
    "# Stwórz nową zmienną napisową, która zawiera tą samą wartość co hashtag_str ale bez znaku #. Spróbuj użyć continue\n",
    "# Nie używaj replace()\n",
    "\n",
    "hashtag_str = \"#Python#is#simple#language\"\n",
    "\n"
   ]
  },
  {
   "cell_type": "code",
   "execution_count": 6,
   "metadata": {},
   "outputs": [
    {
     "name": "stdout",
     "output_type": "stream",
     "text": [
      "Pythonissimplelanguage\n"
     ]
    }
   ],
   "source": [
    "hashtag_str = \"#Python#is#simple#language\"\n",
    "nazwa_bez_hash = hashtag_str.replace(\"#\", \"\")\n",
    "print(nazwa_bez_hash)\n",
    "hashtag_str = \"#Python#is#simple#language\""
   ]
  },
  {
   "cell_type": "code",
   "execution_count": 8,
   "metadata": {},
   "outputs": [
    {
     "ename": "IndentationError",
     "evalue": "unindent does not match any outer indentation level (<tokenize>, line 4)",
     "output_type": "error",
     "traceback": [
      "\u001b[1;36m  File \u001b[1;32m<tokenize>:4\u001b[1;36m\u001b[0m\n\u001b[1;33m    print(nazwa_bez_hash)\u001b[0m\n\u001b[1;37m    ^\u001b[0m\n\u001b[1;31mIndentationError\u001b[0m\u001b[1;31m:\u001b[0m unindent does not match any outer indentation level\n"
     ]
    }
   ],
   "source": [
    "nazwa_bez_hasha = ''\n",
    "for znak in hashtag_str:\n",
    "    if znak == '#':\n",
    "        continue\n",
    "    nazwa_bez_hasha += znak\n",
    "print(nazwa_bez_hasha)"
   ]
  }
 ],
 "metadata": {
  "kernelspec": {
   "display_name": "Python 3.10.5 64-bit",
   "language": "python",
   "name": "python3"
  },
  "language_info": {
   "codemirror_mode": {
    "name": "ipython",
    "version": 3
   },
   "file_extension": ".py",
   "mimetype": "text/x-python",
   "name": "python",
   "nbconvert_exporter": "python",
   "pygments_lexer": "ipython3",
   "version": "3.10.5"
  },
  "orig_nbformat": 4,
  "vscode": {
   "interpreter": {
    "hash": "fb4569285eef3a3450cb62085a5b1e0da4bce0af555edc33dcf29baf3acc1368"
   }
  }
 },
 "nbformat": 4,
 "nbformat_minor": 2
}
